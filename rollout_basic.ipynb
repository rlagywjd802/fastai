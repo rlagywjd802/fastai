{
 "cells": [
  {
   "cell_type": "markdown",
   "metadata": {},
   "source": [
    "## Content\n",
    "### 1. Tensorflow\n",
    "### 2. Discrete vs Continous\n",
    "### 3. A simple program"
   ]
  },
  {
   "cell_type": "code",
   "execution_count": 1,
   "metadata": {
    "collapsed": true
   },
   "outputs": [],
   "source": [
    "import numpy as np"
   ]
  },
  {
   "cell_type": "markdown",
   "metadata": {},
   "source": [
    "_rollout\\_test.py_ will run a linear policy with randomly initialized parametes on 'CartPole-v0' and 'Point-v0'.\n",
    "\n",
    ">'Point-v0' is a simple point-reaching envirionment. In this envirionment, a point will be spawned at a random location a the beginning of each eposiode and the goal is to move the center as soon as possible."
   ]
  },
  {
   "cell_type": "markdown",
   "metadata": {},
   "source": [
    "```\n",
    "obs_dim = 2\n",
    "action_dim = 2\n",
    "rng = np.random.RandomState(42)\n",
    "theta = rng.normal(scale=0.01, size=(action_dim, obs_dim+1))  # randomly initialized parameter\n",
    "```"
   ]
  },
  {
   "cell_type": "markdown",
   "metadata": {},
   "source": [
    "### np.random.RandomState(seed)\n",
    "- class\n",
    "- parameter\n",
    "  - seed : {None, int, array_like}\n",
    "- methods : normal, binoial, multinomial, poisson...\n",
    "\n",
    "generating random numbers drawn from a variety of probability distribuitions"
   ]
  },
  {
   "cell_type": "markdown",
   "metadata": {},
   "source": [
    "### RandomState.normal(loc=0.0, scale=1.0, size=None)\n",
    "- function\n",
    "- parameter\n",
    "  - loc : mean of distribution\n",
    "  - scale : standard deviation of the distribution\n",
    "  - size : output shape \n",
    "\n",
    "draw samples from a normal (Gaussian) distribution for $\\mu$ and $\\sigma$"
   ]
  },
  {
   "cell_type": "markdown",
   "metadata": {},
   "source": [
    "Let's check the value of mean and std for normal distribution by changing parameters."
   ]
  },
  {
   "cell_type": "code",
   "execution_count": 25,
   "metadata": {},
   "outputs": [
    {
     "name": "stdout",
     "output_type": "stream",
     "text": [
      "0.343479652446\n0.633343066633\n"
     ]
    }
   ],
   "source": [
    "th = rng.normal(size=(10000,))\n",
    "print('mean:', np.mean(th))\n",
    "print('std:', np.std(th))"
   ]
  },
  {
   "cell_type": "code",
   "execution_count": 26,
   "metadata": {},
   "outputs": [
    {
     "name": "stdout",
     "output_type": "stream",
     "text": [
      "0.343479652446\n0.633343066633\n"
     ]
    }
   ],
   "source": [
    "th_scale = rng.normal(scale=.1, size=(10000,))\n",
    "print('mean:', np.mean(th_scale))\n",
    "print('std:', np.std(th_scale))"
   ]
  },
  {
   "cell_type": "code",
   "execution_count": 29,
   "metadata": {},
   "outputs": [
    {
     "name": "stdout",
     "output_type": "stream",
     "text": [
      "[ 0.33537946  0.35157984]\n[ 0.34054087  0.82834025]\n"
     ]
    }
   ],
   "source": [
    "th_size = rng.normal(scale=1, size=(2,10000))\n",
    "print('mean:', np.mean(th_size, axis=1))\n",
    "print('std:', np.std(th_size, axis=1))"
   ]
  },
  {
   "cell_type": "code",
   "execution_count": 32,
   "metadata": {},
   "outputs": [
    {
     "name": "stdout",
     "output_type": "stream",
     "text": [
      "mean: [-0.00486791  1.00470028]\nstd: [ 0.9936277   1.00665813]\n"
     ]
    }
   ],
   "source": [
    "th_loc = rng.normal(loc=[[0],[1]], scale=1, size=(2,10000))\n",
    "print('mean:', np.mean(th_loc, axis=1))\n",
    "print('std:', np.std(th_loc, axis=1))"
   ]
  },
  {
   "cell_type": "markdown",
   "metadata": {},
   "source": [
    "```\n",
    "def point_get_action(theta, ob, rng=np.random):\n",
    "    ob_1 = include_bias(ob)\n",
    "    mean = theta.dot(ob_1)\n",
    "    return rng.normal(loc=mean, scale=1.)\n",
    "\n",
    "\n",
    "def cartpole_get_action(theta, ob, rng=np.random):\n",
    "    ob_1 = include_bias(ob)\n",
    "    logits = ob_1.dot(theta.T)\n",
    "    return weighted_sample(logits, rng=rng)\n",
    "```"
   ]
  },
  {
   "cell_type": "markdown",
   "metadata": {},
   "source": [
    "There are two predefined function _include\\_bias_ and _weighted\\_sample_ in _simple\\_utils.py_. Let's find out how these functions work.\n",
    "\n",
    "First, _include\\_bias_ function add 1 to each entry in the arrray."
   ]
  },
  {
   "cell_type": "markdown",
   "metadata": {},
   "source": [
    "```\n",
    "def weighted_sample(logits, rng=np.random):\n",
    "    weights = softmax(logits)\n",
    "    return min(\n",
    "        int(np.sum(rng.uniform() > np.cumsum(weights))),\n",
    "        len(weights) - 1\n",
    "    )\n",
    "\n",
    "\n",
    "def include_bias(x):\n",
    "    # Add a constant term (1.0) to each entry in x\n",
    "    return np.concatenate([x, np.ones_like(x[..., :1])], axis=-1)\n",
    "```"
   ]
  },
  {
   "cell_type": "code",
   "execution_count": 40,
   "metadata": {},
   "outputs": [
    {
     "name": "stdout",
     "output_type": "stream",
     "text": [
      "ob   : [[ 0.33   0.974]]\nob_1 : [[ 0.33   0.974  1.   ]]\n"
     ]
    }
   ],
   "source": [
    "def include_bias(x):\n",
    "    # Add a constant term (1.0) to each entry in x\n",
    "    return np.concatenate([x, np.ones_like(x[..., :1])], axis=-1)\n",
    "\n",
    "ob = np.array([[0.330, 0.974]]) # shape : (1, obs_dim)\n",
    "ob_1 = include_bias(ob)         # shape : (1, obs_dim+1)\n",
    "print(\"ob   :\", ob)\n",
    "print(\"ob_1 :\", ob_1)"
   ]
  },
  {
   "cell_type": "markdown",
   "metadata": {},
   "source": [
    "For batch_size=10, the result is as follows."
   ]
  },
  {
   "cell_type": "code",
   "execution_count": 39,
   "metadata": {},
   "outputs": [
    {
     "name": "stdout",
     "output_type": "stream",
     "text": [
      "obn   : [[ 0.33   0.974]\n [ 0.355  0.999]\n [ 0.33   1.   ]\n [ 0.305  0.975]\n [ 0.33   0.95 ]\n [ 0.305  0.925]\n [ 0.28   0.95 ]\n [ 0.255  0.925]\n [ 0.28   0.9  ]\n [ 0.305  0.875]]\nobn_1 : [[ 0.33   0.974  1.   ]\n [ 0.355  0.999  1.   ]\n [ 0.33   1.     1.   ]\n [ 0.305  0.975  1.   ]\n [ 0.33   0.95   1.   ]\n [ 0.305  0.925  1.   ]\n [ 0.28   0.95   1.   ]\n [ 0.255  0.925  1.   ]\n [ 0.28   0.9    1.   ]\n [ 0.305  0.875  1.   ]]\n"
     ]
    }
   ],
   "source": [
    "obn = np.array([[0.330, 0.974],\n",
    "        [0.355, 0.999],\n",
    "        [0.330, 1.000],\n",
    "        [0.305, 0.975],\n",
    "        [0.330, 0.950],\n",
    "        [0.305, 0.925],\n",
    "        [0.280, 0.950],\n",
    "        [0.255, 0.925],\n",
    "        [0.280, 0.900],\n",
    "        [0.305, 0.875]])    # shape : (10, obs_dim)\n",
    "obn_1 = include_bias(obn)   # shape : (1, obs_dim+1)\n",
    "print(\"obn   :\", obn)\n",
    "print(\"obn_1 :\", obn_1)"
   ]
  },
  {
   "cell_type": "markdown",
   "metadata": {},
   "source": [
    "Second, _weighted\\_sample_ funcion ~."
   ]
  },
  {
   "cell_type": "markdown",
   "metadata": {},
   "source": [
    "```\n",
    "def weighted_sample(logits, rng=np.random):\n",
    "    weights = softmax(logits)\n",
    "    return min(\n",
    "        int(np.sum(rng.uniform() > np.cumsum(weights))),\n",
    "        len(weights) - 1\n",
    "    )\n",
    "```"
   ]
  },
  {
   "cell_type": "code",
   "execution_count": 42,
   "metadata": {
    "collapsed": false
   },
   "outputs": [
    {
     "name": "stdout",
     "output_type": "stream",
     "text": [
      "<mtrand.RandomState object at 0x7f9c9c04e558>\n"
     ]
    }
   ],
   "source": [
    "def softmax(logits):\n",
    "    x = logits\n",
    "    x = x - np.max(x, axis=-1, keepdims=True)\n",
    "    x = np.exp(x)\n",
    "    return x / np.sum(x, axis=-1, keepdims=True)\n",
    "\n",
    "logits = [-7.01659141e-05, 1.04048004e-02] # ouput value of the linear policy\n",
    "weights = softmax(logits)\n",
    "\n",
    "print(\"weights: \", weights)\n"
   ]
  }
 ],
 "metadata": {
  "kernelspec": {
   "display_name": "Python 2",
   "language": "python",
   "name": "python2"
  },
  "language_info": {
   "codemirror_mode": {
    "name": "ipython",
    "version": 2
   },
   "file_extension": ".py",
   "mimetype": "text/x-python",
   "name": "python",
   "nbconvert_exporter": "python",
   "pygments_lexer": "ipython2",
   "version": "2.7.6"
  }
 },
 "nbformat": 4,
 "nbformat_minor": 0
}
