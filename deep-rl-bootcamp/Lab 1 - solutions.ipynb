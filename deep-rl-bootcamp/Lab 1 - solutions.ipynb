{
  "nbformat": 4,
  "nbformat_minor": 0,
  "metadata": {
    "colab": {
      "name": "Lab 1 - Problem 1 Solutions.ipynb",
      "version": "0.3.2",
      "views": {},
      "default_view": {},
      "provenance": [
        {
          "file_id": "0B6ArzxpJJ4WVLWxtVzBsYUJYNTA",
          "timestamp": 1509146167480
        }
      ],
      "collapsed_sections": []
    }
  },
  "cells": [
    {
      "metadata": {
        "id": "AcKwkqnlNAtn",
        "colab_type": "text"
      },
      "source": [
        "## Preface from mike\n",
        "\n",
        "I modified the notebook from lab1 of the Berkley reinforcement bootcamp 2017 to run on google's colab. This save you from having to set up your own environment.\n",
        "\n",
        "Make a copy of this notebook, (so you don't give everyone the answers). Click file=>make a copy\n",
        "\n",
        "Run the first few cells to download the required code so you run it on a google cloud backend (for free for now). We can also share comments "
      ],
      "cell_type": "markdown"
    },
    {
      "metadata": {
        "id": "ID64OlylIvZO",
        "colab_type": "code",
        "colab": {
          "autoexec": {
            "startup": false,
            "wait_interval": 0
          }
        }
      },
      "source": [
        "import os\n",
        "os.sys.path.append('.')"
      ],
      "cell_type": "code",
      "execution_count": 0,
      "outputs": []
    },
    {
      "metadata": {
        "id": "m7E23obBN_8v",
        "colab_type": "code",
        "colab": {
          "autoexec": {
            "startup": false,
            "wait_interval": 0
          },
          "output_extras": [
            {
              "item_id": 1
            },
            {
              "item_id": 2
            }
          ],
          "base_uri": "https://localhost:8080/",
          "height": 411
        },
        "outputId": "0ce3d585-c327-40f6-e4bc-9f833711f7fc",
        "executionInfo": {
          "status": "ok",
          "timestamp": 1509183268349,
          "user_tz": -480,
          "elapsed": 1224,
          "user": {
            "displayName": "Mike C",
            "photoUrl": "//lh3.googleusercontent.com/-xWyBhueI0Vo/AAAAAAAAAAI/AAAAAAAAIg8/rU-qliu5l-M/s50-c-k-no/photo.jpg",
            "userId": "110113503404408134511"
          }
        }
      },
      "source": [
        "%%bash\n",
        "echo \"downloading lab\"\n",
        "wget --no-check-certificate 'https://docs.google.com/uc?export=download&id=0B1BwaUH2mk-EdXI5dzlLbWl5R0E' -O lab1.zip"
      ],
      "cell_type": "code",
      "execution_count": 3,
      "outputs": [
        {
          "output_type": "stream",
          "text": [
            "downloading lab\n"
          ],
          "name": "stdout"
        },
        {
          "output_type": "stream",
          "text": [
            "--2017-10-28 09:34:27--  https://docs.google.com/uc?export=download&id=0B1BwaUH2mk-EdXI5dzlLbWl5R0E\n",
            "Resolving docs.google.com (docs.google.com)... 74.125.141.100, 74.125.141.101, 74.125.141.113, ...\n",
            "Connecting to docs.google.com (docs.google.com)|74.125.141.100|:443... connected.\n",
            "HTTP request sent, awaiting response... 302 Moved Temporarily\n",
            "Location: https://doc-04-0s-docs.googleusercontent.com/docs/securesc/ha0ro937gcuc7l7deffksulhg5h7mbp1/r006jdgtpcjbvrkrlt32o289qf8pd96d/1509177600000/16080780047704686699/*/0B1BwaUH2mk-EdXI5dzlLbWl5R0E?e=download [following]\n",
            "Warning: wildcards not supported in HTTP.\n",
            "--2017-10-28 09:34:27--  https://doc-04-0s-docs.googleusercontent.com/docs/securesc/ha0ro937gcuc7l7deffksulhg5h7mbp1/r006jdgtpcjbvrkrlt32o289qf8pd96d/1509177600000/16080780047704686699/*/0B1BwaUH2mk-EdXI5dzlLbWl5R0E?e=download\n",
            "Resolving doc-04-0s-docs.googleusercontent.com (doc-04-0s-docs.googleusercontent.com)... 74.125.141.132, 2607:f8b0:400c:c06::84\n",
            "Connecting to doc-04-0s-docs.googleusercontent.com (doc-04-0s-docs.googleusercontent.com)|74.125.141.132|:443... connected.\n",
            "HTTP request sent, awaiting response... 200 OK\n",
            "Length: 239828 (234K) [application/zip]\n",
            "Saving to: ‘lab1.zip’\n",
            "\n",
            "     0K .......... .......... .......... .......... .......... 21% 46.5M 0s\n",
            "    50K .......... .......... .......... .......... .......... 42% 50.8M 0s\n",
            "   100K .......... .......... .......... .......... .......... 64% 72.3M 0s\n",
            "   150K .......... .......... .......... .......... .......... 85% 76.1M 0s\n",
            "   200K .......... .......... .......... ....                 100% 74.5M=0.004s\n",
            "\n",
            "2017-10-28 09:34:28 (60.6 MB/s) - ‘lab1.zip’ saved [239828/239828]\n",
            "\n"
          ],
          "name": "stderr"
        }
      ]
    },
    {
      "metadata": {
        "id": "UcLJdMutIzCX",
        "colab_type": "code",
        "colab": {
          "autoexec": {
            "startup": false,
            "wait_interval": 0
          },
          "output_extras": [
            {
              "item_id": 1
            },
            {
              "item_id": 2
            }
          ],
          "base_uri": "https://localhost:8080/",
          "height": 1071
        },
        "outputId": "ec124f07-ec12-454a-9129-c9b014921a31",
        "executionInfo": {
          "status": "ok",
          "timestamp": 1509183274501,
          "user_tz": -480,
          "elapsed": 5965,
          "user": {
            "displayName": "Mike C",
            "photoUrl": "//lh3.googleusercontent.com/-xWyBhueI0Vo/AAAAAAAAAAI/AAAAAAAAIg8/rU-qliu5l-M/s50-c-k-no/photo.jpg",
            "userId": "110113503404408134511"
          }
        }
      },
      "source": [
        "%%bash\n",
        "echo \"unzipping lab\"\n",
        "unzip -o lab1.zip\n",
        "mv -f lab1/* .\n",
        "rm lab1/ -rf\n",
        "\n",
        "# this notebook is python2, the code is python3, make it compatible with this\n",
        "echo \"\"\n",
        "echo \"python 3 to 2\"\n",
        "pasteurize -w *.py > pasteurize.log\n",
        "\n",
        "echo \"\"\n",
        "echo \"install dependencies\"\n",
        "pip install gym"
      ],
      "cell_type": "code",
      "execution_count": 4,
      "outputs": [
        {
          "output_type": "stream",
          "text": [
            "unzipping lab\n",
            "Archive:  lab1.zip\n",
            "   creating: lab1/\n",
            "  inflating: lab1/misc.py            \n",
            "  inflating: lab1/crawler_env.py     \n",
            "  inflating: lab1/Lab 1 - Problem 3.ipynb  \n",
            "  inflating: lab1/frozen_lake.py     \n",
            "  inflating: lab1/LICENSE            \n",
            "  inflating: lab1/environment.yml    \n",
            "  inflating: lab1/discrete_env.py    \n",
            "  inflating: lab1/Lab 1 - Problem 1.ipynb  \n",
            "  inflating: lab1/lab1.md            \n",
            "  inflating: lab1/Lab 1 - Problem 2.ipynb  \n",
            "   creating: lab1/.ipynb_checkpoints/\n",
            "  inflating: lab1/.ipynb_checkpoints/Lab 1 - Problem 3-checkpoint.ipynb  \n",
            "  inflating: lab1/.ipynb_checkpoints/Lab 1 - Problem 2-checkpoint.ipynb  \n",
            "  inflating: lab1/.ipynb_checkpoints/Lab 1 - Problem 1-checkpoint.ipynb  \n",
            "\n",
            "python 3 to 2\n",
            "\n",
            "install dependencies\n",
            "Collecting gym\n",
            "  Downloading gym-0.9.4.tar.gz (157kB)\n",
            "Requirement already satisfied: numpy>=1.10.4 in /usr/local/lib/python2.7/dist-packages (from gym)\n",
            "Requirement already satisfied: requests>=2.0 in /usr/local/lib/python2.7/dist-packages (from gym)\n",
            "Requirement already satisfied: six in /usr/local/lib/python2.7/dist-packages (from gym)\n",
            "Collecting pyglet>=1.2.0 (from gym)\n",
            "  Downloading pyglet-1.2.4-py2-none-any.whl (964kB)\n",
            "Requirement already satisfied: urllib3<1.23,>=1.21.1 in /usr/local/lib/python2.7/dist-packages (from requests>=2.0->gym)\n",
            "Requirement already satisfied: idna<2.7,>=2.5 in /usr/local/lib/python2.7/dist-packages (from requests>=2.0->gym)\n",
            "Requirement already satisfied: chardet<3.1.0,>=3.0.2 in /usr/local/lib/python2.7/dist-packages (from requests>=2.0->gym)\n",
            "Requirement already satisfied: certifi>=2017.4.17 in /usr/local/lib/python2.7/dist-packages (from requests>=2.0->gym)\n",
            "Building wheels for collected packages: gym\n",
            "  Running setup.py bdist_wheel for gym: started\n",
            "  Running setup.py bdist_wheel for gym: finished with status 'done'\n",
            "  Stored in directory: /content/.cache/pip/wheels/ad/46/5a/1833d0ef8149a50e78fdb24a41f47e22a7f4a9dcd649b8db53\n",
            "Successfully built gym\n",
            "Installing collected packages: pyglet, gym\n",
            "Successfully installed gym-0.9.4 pyglet-1.2.4\n"
          ],
          "name": "stdout"
        },
        {
          "output_type": "stream",
          "text": [
            "root: Generating grammar tables from /usr/lib/python2.7/lib2to3/PatternGrammar.txt\n",
            "root: Generating grammar tables from /usr/lib/python2.7/lib2to3/PatternGrammar.txt\n",
            "root: Generating grammar tables from /usr/lib/python2.7/lib2to3/PatternGrammar.txt\n",
            "root: Generating grammar tables from /usr/lib/python2.7/lib2to3/PatternGrammar.txt\n",
            "root: Generating grammar tables from /usr/lib/python2.7/lib2to3/PatternGrammar.txt\n",
            "root: Generating grammar tables from /usr/lib/python2.7/lib2to3/PatternGrammar.txt\n",
            "root: Generating grammar tables from /usr/lib/python2.7/lib2to3/PatternGrammar.txt\n",
            "root: Generating grammar tables from /usr/lib/python2.7/lib2to3/PatternGrammar.txt\n",
            "root: Generating grammar tables from /usr/lib/python2.7/lib2to3/PatternGrammar.txt\n",
            "root: Generating grammar tables from /usr/lib/python2.7/lib2to3/PatternGrammar.txt\n",
            "root: Generating grammar tables from /usr/lib/python2.7/lib2to3/PatternGrammar.txt\n",
            "root: Generating grammar tables from /usr/lib/python2.7/lib2to3/PatternGrammar.txt\n",
            "root: Generating grammar tables from /usr/lib/python2.7/lib2to3/PatternGrammar.txt\n",
            "root: Generating grammar tables from /usr/lib/python2.7/lib2to3/PatternGrammar.txt\n",
            "RefactoringTool: Refactored crawler_env.py\n",
            "RefactoringTool: Refactored discrete_env.py\n",
            "RefactoringTool: Refactored frozen_lake.py\n",
            "RefactoringTool: Refactored misc.py\n",
            "RefactoringTool: Files that were modified:\n",
            "RefactoringTool: crawler_env.py\n",
            "RefactoringTool: discrete_env.py\n",
            "RefactoringTool: frozen_lake.py\n",
            "RefactoringTool: misc.py\n"
          ],
          "name": "stderr"
        }
      ]
    },
    {
      "metadata": {
        "id": "sqd9E3XIN-mF",
        "colab_type": "code",
        "colab": {
          "autoexec": {
            "startup": false,
            "wait_interval": 0
          }
        }
      },
      "source": [
        ""
      ],
      "cell_type": "code",
      "execution_count": 0,
      "outputs": []
    },
    {
      "metadata": {
        "id": "3lmax9fHIr7U",
        "colab_type": "text"
      },
      "source": [
        "# Lab 1: Markov Decision Processes - Problem 1\n",
        "\n",
        "\n",
        "## Lab Instructions\n",
        "All your answers should be written in this notebook.  You shouldn't need to write or modify any other files.\n",
        "\n",
        "**You should execute every block of code to not miss any dependency.**\n",
        "\n",
        "\n",
        "*This project was developed by Peter Chen, Rocky Duan, Pieter Abbeel for the Berkeley Deep RL Bootcamp, August 2017. Bootcamp website with slides and lecture videos: https://sites.google.com/view/deep-rl-bootcamp/. It is adapted from Berkeley Deep RL Class [HW2](https://github.com/berkeleydeeprlcourse/homework/blob/c1027d83cd542e67ebed982d44666e0d22a00141/hw2/HW2.ipynb) [(license)](https://github.com/berkeleydeeprlcourse/homework/blob/master/LICENSE)*\n",
        "\n",
        "--------------------------"
      ],
      "cell_type": "markdown"
    },
    {
      "metadata": {
        "id": "6ApImLdOIr7V",
        "colab_type": "text"
      },
      "source": [
        "## Introduction\n",
        "\n",
        "This assignment will review the two classic methods for solving Markov Decision Processes (MDPs) with finite state and action spaces.\n",
        "We will implement value iteration (VI) and policy iteration (PI) for a finite MDP, both of which find the optimal policy in a finite number of iterations.\n",
        "\n",
        "The experiments here will use the Frozen Lake environment, a simple gridworld MDP that is taken from `gym` and slightly modified for this assignment. In this MDP, the agent must navigate from the start state to the goal state on a 4x4 grid, with stochastic transitions."
      ],
      "cell_type": "markdown"
    },
    {
      "metadata": {
        "id": "xK-1GF-hIr7W",
        "colab_type": "code",
        "colab": {
          "autoexec": {
            "startup": false,
            "wait_interval": 0
          },
          "output_extras": [
            {
              "item_id": 1
            }
          ],
          "base_uri": "https://localhost:8080/",
          "height": 425
        },
        "outputId": "169ceb0b-2b50-4fc0-a972-f217885b90df",
        "executionInfo": {
          "status": "ok",
          "timestamp": 1509183276304,
          "user_tz": -480,
          "elapsed": 710,
          "user": {
            "displayName": "Mike C",
            "photoUrl": "//lh3.googleusercontent.com/-xWyBhueI0Vo/AAAAAAAAAAI/AAAAAAAAIg8/rU-qliu5l-M/s50-c-k-no/photo.jpg",
            "userId": "110113503404408134511"
          }
        }
      },
      "source": [
        "from misc import FrozenLakeEnv, make_grader\n",
        "env = FrozenLakeEnv()\n",
        "print(env.__doc__)"
      ],
      "cell_type": "code",
      "execution_count": 5,
      "outputs": [
        {
          "output_type": "stream",
          "text": [
            "\n",
            "    Winter is here. You and your friends were tossing around a frisbee at the park\n",
            "    when you made a wild throw that left the frisbee out in the middle of the lake.\n",
            "    The water is mostly frozen, but there are a few holes where the ice has melted.\n",
            "    If you step into one of those holes, you'll fall into the freezing water.\n",
            "    At this time, there's an international frisbee shortage, so it's absolutely imperative that\n",
            "    you navigate across the lake and retrieve the disc.\n",
            "    However, the ice is slippery, so you won't always move in the direction you intend.\n",
            "    The surface is described using a grid like the following\n",
            "\n",
            "        SFFF\n",
            "        FHFH\n",
            "        FFFH\n",
            "        HFFG\n",
            "\n",
            "    S : starting point, safe\n",
            "    F : frozen surface, safe\n",
            "    H : hole, fall to your doom\n",
            "    G : goal, where the frisbee is located\n",
            "\n",
            "    The episode ends when you reach the goal or fall in a hole.\n",
            "    You receive a reward of 1 if you reach the goal, and zero otherwise.\n",
            "\n",
            "    \n"
          ],
          "name": "stdout"
        }
      ]
    },
    {
      "metadata": {
        "id": "fgBzqHUDIr7d",
        "colab_type": "text"
      },
      "source": [
        "Let's look at what a random episode looks like."
      ],
      "cell_type": "markdown"
    },
    {
      "metadata": {
        "id": "nbkijLqSIr7d",
        "colab_type": "code",
        "colab": {
          "autoexec": {
            "startup": false,
            "wait_interval": 0
          },
          "output_extras": [
            {
              "item_id": 1
            }
          ],
          "base_uri": "https://localhost:8080/",
          "height": 272
        },
        "outputId": "5ea6b03b-0ed5-4fcc-b664-136e3d9299bc",
        "executionInfo": {
          "status": "ok",
          "timestamp": 1509183277217,
          "user_tz": -480,
          "elapsed": 761,
          "user": {
            "displayName": "Mike C",
            "photoUrl": "//lh3.googleusercontent.com/-xWyBhueI0Vo/AAAAAAAAAAI/AAAAAAAAIg8/rU-qliu5l-M/s50-c-k-no/photo.jpg",
            "userId": "110113503404408134511"
          }
        }
      },
      "source": [
        "# Some basic imports and setup\n",
        "import numpy as np, numpy.random as nr, gym\n",
        "import matplotlib.pyplot as plt\n",
        "%matplotlib inline\n",
        "np.set_printoptions(precision=3)\n",
        "\n",
        "# Seed RNGs so you get the same printouts as me\n",
        "env.seed(0); from gym.spaces import prng; prng.seed(10)\n",
        "# Generate the episode\n",
        "env.reset()\n",
        "for t in range(100):\n",
        "    env.render()\n",
        "    a = env.action_space.sample()\n",
        "    ob, rew, done, _ = env.step(a)\n",
        "    if done:\n",
        "        break\n",
        "assert done\n",
        "env.render();"
      ],
      "cell_type": "code",
      "execution_count": 6,
      "outputs": [
        {
          "output_type": "stream",
          "text": [
            "\n",
            "\u001b[41mS\u001b[0mFFF\n",
            "FHFH\n",
            "FFFH\n",
            "HFFG\n",
            "  (Down)\n",
            "S\u001b[41mF\u001b[0mFF\n",
            "FHFH\n",
            "FFFH\n",
            "HFFG\n",
            "  (Down)\n",
            "SFFF\n",
            "F\u001b[41mH\u001b[0mFH\n",
            "FFFH\n",
            "HFFG\n"
          ],
          "name": "stdout"
        }
      ]
    },
    {
      "metadata": {
        "id": "Ornbk2HvIr7h",
        "colab_type": "text"
      },
      "source": [
        "In the episode above, the agent falls into a hole after two timesteps. Also note the stochasticity--on the first step, the DOWN action is selected, but the agent moves to the right.\n",
        "\n",
        "We extract the relevant information from the gym Env into the MDP class below.\n",
        "The `env` object won't be used any further, we'll just use the `mdp` object."
      ],
      "cell_type": "markdown"
    },
    {
      "metadata": {
        "id": "D9E7P9PaIr7h",
        "colab_type": "code",
        "colab": {
          "autoexec": {
            "startup": false,
            "wait_interval": 0
          },
          "output_extras": [
            {
              "item_id": 1
            }
          ],
          "base_uri": "https://localhost:8080/",
          "height": 272
        },
        "outputId": "bf0b74ef-9cf7-4d00-bd6f-e8ecbd5ef4df",
        "executionInfo": {
          "status": "ok",
          "timestamp": 1509183278291,
          "user_tz": -480,
          "elapsed": 893,
          "user": {
            "displayName": "Mike C",
            "photoUrl": "//lh3.googleusercontent.com/-xWyBhueI0Vo/AAAAAAAAAAI/AAAAAAAAIg8/rU-qliu5l-M/s50-c-k-no/photo.jpg",
            "userId": "110113503404408134511"
          }
        }
      },
      "source": [
        "class MDP(object):\n",
        "    \"\"\"Markov decision process\"\"\"\n",
        "    def __init__(self, P, nS, nA, desc=None):\n",
        "        self.P = P # state transition and reward probabilities, explained below\n",
        "        self.nS = nS # number of states\n",
        "        self.nA = nA # number of actions\n",
        "        self.desc = desc # 2D array specifying what each grid cell means (used for plotting)\n",
        "\n",
        "mdp = MDP( {s : {a : [tup[:3] for tup in tups] for (a, tups) in a2d.items()} for (s, a2d) in env.P.items()}, env.nS, env.nA, env.desc)\n",
        "\n",
        "print(\"mdp.P is a two-level dict where the first key is the state and the second key is the action.\")\n",
        "print(\"The 2D grid cells are associated with indices [0, 1, 2, ..., 15] from left to right and top to down, as in\")\n",
        "print(np.arange(16).reshape(4,4))\n",
        "print(\"Action indices [0, 1, 2, 3] correspond to West, South, East and North.\")\n",
        "print(\"mdp.P[state][action] is a list of tuples (probability, nextstate, reward).\\n\")\n",
        "print(\"For example, state 0 is the initial state, and the transition information for s=0, a=0 is \\nP[0][0] =\", mdp.P[0][0], \"\\n\")\n",
        "print(\"As another example, state 5 corresponds to a hole in the ice, in which all actions lead to the same state with probability 1 and reward 0.\")\n",
        "for i in range(4):\n",
        "    print(\"P[5][%i] =\" % i, mdp.P[5][i])"
      ],
      "cell_type": "code",
      "execution_count": 7,
      "outputs": [
        {
          "output_type": "stream",
          "text": [
            "mdp.P is a two-level dict where the first key is the state and the second key is the action.\n",
            "The 2D grid cells are associated with indices [0, 1, 2, ..., 15] from left to right and top to down, as in\n",
            "[[ 0  1  2  3]\n",
            " [ 4  5  6  7]\n",
            " [ 8  9 10 11]\n",
            " [12 13 14 15]]\n",
            "Action indices [0, 1, 2, 3] correspond to West, South, East and North.\n",
            "mdp.P[state][action] is a list of tuples (probability, nextstate, reward).\n",
            "\n",
            "('For example, state 0 is the initial state, and the transition information for s=0, a=0 is \\nP[0][0] =', [(0.1, 0, 0.0), (0.8, 0, 0.0), (0.1, 4, 0.0)], '\\n')\n",
            "As another example, state 5 corresponds to a hole in the ice, in which all actions lead to the same state with probability 1 and reward 0.\n",
            "('P[5][0] =', [(1.0, 5, 0)])\n",
            "('P[5][1] =', [(1.0, 5, 0)])\n",
            "('P[5][2] =', [(1.0, 5, 0)])\n",
            "('P[5][3] =', [(1.0, 5, 0)])\n"
          ],
          "name": "stdout"
        }
      ]
    },
    {
      "metadata": {
        "id": "bLzBMbn3VITA",
        "colab_type": "code",
        "colab": {
          "autoexec": {
            "startup": false,
            "wait_interval": 0
          }
        }
      },
      "source": [
        ""
      ],
      "cell_type": "code",
      "execution_count": 0,
      "outputs": []
    },
    {
      "metadata": {
        "id": "ATXtdEbcIr7k",
        "colab_type": "text"
      },
      "source": [
        "## Part 1: Value Iteration"
      ],
      "cell_type": "markdown"
    },
    {
      "metadata": {
        "id": "mYiCzZzSIr7l",
        "colab_type": "text"
      },
      "source": [
        "### Problem 1: implement value iteration\n",
        "In this problem, you'll implement value iteration, which has the following pseudocode:\n",
        "\n",
        "---\n",
        "Initialize $V^{(0)}(s)=0$, for all $s$\n",
        "\n",
        "For $i=0, 1, 2, \\dots$\n",
        "- $V^{(i+1)}(s) = \\max_a \\sum_{s'} P(s,a,s') [ R(s,a,s') + \\gamma V^{(i)}(s')]$, for all $s$\n",
        "\n",
        "---\n",
        "\n",
        "We additionally define the sequence of greedy policies $\\pi^{(0)}, \\pi^{(1)}, \\dots, \\pi^{(n-1)}$, where\n",
        "$$\\pi^{(i)}(s) = \\arg \\max_a \\sum_{s'} P(s,a,s') [ R(s,a,s') + \\gamma V^{(i)}(s')]$$\n",
        "\n",
        "Your code will return two lists: $[V^{(0)}, V^{(1)}, \\dots, V^{(n)}]$ and $[\\pi^{(0)}, \\pi^{(1)}, \\dots, \\pi^{(n-1)}]$\n",
        "\n",
        "To ensure that you get the same policies as the reference solution, choose the lower-index action to break ties in $\\arg \\max_a$. This is done automatically by np.argmax. This will only affect the \"# chg actions\" printout below--it won't affect the values computed.\n",
        "\n",
        "<div class=\"alert alert-warning\">\n",
        "Warning: make a copy of your value function each iteration and use that copy for the update--don't update your value function in place. \n",
        "Updating in-place is also a valid algorithm, sometimes called Gauss-Seidel value iteration or asynchronous value iteration, but it will cause you to get different results than our reference solution (which in turn will mean that our testing code won’t be able to help in verifying your code).\n",
        "</div>"
      ],
      "cell_type": "markdown"
    },
    {
      "metadata": {
        "id": "nkqLgeKJUNGj",
        "colab_type": "text"
      },
      "source": [
        "Note the slides for this are Lecuture 1, search \"value iteaction\" https://drive.google.com/file/d/0BxXI_RttTZAhVXBlMUVkQ1BVVDQ/view - mike"
      ],
      "cell_type": "markdown"
    },
    {
      "metadata": {
        "id": "oI4KFEVdIr7l",
        "colab_type": "code",
        "colab": {
          "autoexec": {
            "startup": false,
            "wait_interval": 0
          },
          "output_extras": [
            {
              "item_id": 1
            }
          ],
          "base_uri": "https://localhost:8080/",
          "height": 408
        },
        "outputId": "8a96b090-086a-473b-a60a-22451bc513b3",
        "executionInfo": {
          "status": "ok",
          "timestamp": 1509186049059,
          "user_tz": -480,
          "elapsed": 816,
          "user": {
            "displayName": "Mike C",
            "photoUrl": "//lh3.googleusercontent.com/-xWyBhueI0Vo/AAAAAAAAAAI/AAAAAAAAIg8/rU-qliu5l-M/s50-c-k-no/photo.jpg",
            "userId": "110113503404408134511"
          }
        }
      },
      "source": [
        "def value_iteration(mdp, gamma, nIt, grade_print):\n",
        "    \"\"\"\n",
        "    Inputs:\n",
        "        mdp: MDP\n",
        "        gamma: discount factor\n",
        "        nIt: number of iterations, corresponding to n above\n",
        "    Outputs:\n",
        "        (value_functions, policies)\n",
        "        \n",
        "    len(value_functions) == nIt+1 and len(policies) == nIt\n",
        "    \"\"\"\n",
        "    grade_print(\"Iteration | max|V-Vprev| | # chg actions | V[0]\")\n",
        "    grade_print(\"----------+--------------+---------------+---------\")\n",
        "    Vs = [np.zeros(mdp.nS)] # list of value functions contains the initial value function V^{(0)}, which is zero\n",
        "    pis = []\n",
        "    for it in range(nIt):\n",
        "        oldpi = pis[-1] if len(pis) > 0 else None # \\pi^{(it)} = Greedy[V^{(it-1)}]. Just used for printout\n",
        "        Vprev = Vs[-1] # V^{(it)}\n",
        "        \n",
        "        # Your code should fill in meaningful values for the following two variables\n",
        "        # pi: greedy policy for Vprev (not V), \n",
        "        #     corresponding to the math above: \\pi^{(it)} = Greedy[V^{(it)}]\n",
        "        #     ** it needs to be numpy array of ints **\n",
        "        # V: bellman backup on Vprev\n",
        "        #     corresponding to the math above: V^{(it+1)} = T[V^{(it)}]\n",
        "        #     ** numpy array of floats **        \n",
        "        \n",
        "        # ----- solution ------------------------------------------------------#\n",
        "        # work out the next Value and policy as a function of state $V^{i+1}(s)$\n",
        "        V = np.zeros(mdp.nS)\n",
        "        pi = np.zeros(mdp.nS)\n",
        "        for state in range(mdp.nS):\n",
        "            # work out quality for each action so we can take the argmax\n",
        "            Qis = np.zeros(mdp.nA) # Quality of each action for step=i, and state=state\n",
        "            for action in range(mdp.nA):\n",
        "                # sum over all possible next states (s'), corresponds to the summation over s' in the above equations\n",
        "                for probability, nextstate, reward in mdp.P[state][action]:\n",
        "                    # the $P*(R+y*V)$ from the equations\n",
        "                    Qis[action] += probability * (reward + gamma * Vprev[nextstate])\n",
        "\n",
        "            # Now take the max value/ and max action as in the above equations\n",
        "            V[state] = np.max(Qis)\n",
        "            pi[state] = np.argmax(Qis)\n",
        "\n",
        "        # Store new state and policy\n",
        "        Vs.append(V)\n",
        "        pis.append(pi)\n",
        "        \n",
        "#         V = Vprev # REPLACE THIS LINE WITH YOUR CODE\n",
        "#         pi = oldpi # REPLACE THIS LINE WITH YOUR CODE\n",
        "        # ----- end solution --------------------------------------------------#\n",
        "        \n",
        "        max_diff = np.abs(V - Vprev).max()\n",
        "        nChgActions=\"N/A\" if oldpi is None else (pi != oldpi).sum()\n",
        "        grade_print(\"%4i      | %6.5f      | %4s          | %5.3f\"%(it, max_diff, nChgActions, V[0]))\n",
        "        Vs.append(V)\n",
        "        pis.append(pi)\n",
        "    return Vs, pis\n",
        "\n",
        "GAMMA = 0.95 # we'll be using this same value in subsequent problems\n",
        "\n",
        "\n",
        "# The following is the output of a correct implementation; when\n",
        "#   this code block is run, your implementation's print output will be\n",
        "#   compared with expected output.\n",
        "#   (incorrect line in red background with correct line printed side by side to help you debug)\n",
        "expected_output = \"\"\"Iteration | max|V-Vprev| | # chg actions | V[0]\n",
        "----------+--------------+---------------+---------\n",
        "   0      | 0.80000      |  N/A          | 0.000\n",
        "   1      | 0.60800      |    2          | 0.000\n",
        "   2      | 0.51984      |    2          | 0.000\n",
        "   3      | 0.39508      |    2          | 0.000\n",
        "   4      | 0.30026      |    2          | 0.000\n",
        "   5      | 0.25355      |    1          | 0.254\n",
        "   6      | 0.10478      |    0          | 0.345\n",
        "   7      | 0.09657      |    0          | 0.442\n",
        "   8      | 0.03656      |    0          | 0.478\n",
        "   9      | 0.02772      |    0          | 0.506\n",
        "  10      | 0.01111      |    0          | 0.517\n",
        "  11      | 0.00735      |    0          | 0.524\n",
        "  12      | 0.00310      |    0          | 0.527\n",
        "  13      | 0.00190      |    0          | 0.529\n",
        "  14      | 0.00083      |    0          | 0.530\n",
        "  15      | 0.00049      |    0          | 0.531\n",
        "  16      | 0.00022      |    0          | 0.531\n",
        "  17      | 0.00013      |    0          | 0.531\n",
        "  18      | 0.00006      |    0          | 0.531\n",
        "  19      | 0.00003      |    0          | 0.531\"\"\"\n",
        "Vs_VI, pis_VI = value_iteration(mdp, gamma=GAMMA, nIt=20, grade_print=make_grader(expected_output))"
      ],
      "cell_type": "code",
      "execution_count": 20,
      "outputs": [
        {
          "output_type": "stream",
          "text": [
            "Iteration | max|V-Vprev| | # chg actions | V[0]\n",
            "----------+--------------+---------------+---------\n",
            "   0      | 0.80000      |  N/A          | 0.000\n",
            "   1      | 0.60800      |    2          | 0.000\n",
            "   2      | 0.51984      |    2          | 0.000\n",
            "   3      | 0.39508      |    2          | 0.000\n",
            "   4      | 0.30026      |    2          | 0.000\n",
            "   5      | 0.25355      |    1          | 0.254\n",
            "   6      | 0.10478      |    0          | 0.345\n",
            "   7      | 0.09657      |    0          | 0.442\n",
            "   8      | 0.03656      |    0          | 0.478\n",
            "   9      | 0.02772      |    0          | 0.506\n",
            "  10      | 0.01111      |    0          | 0.517\n",
            "  11      | 0.00735      |    0          | 0.524\n",
            "  12      | 0.00310      |    0          | 0.527\n",
            "  13      | 0.00190      |    0          | 0.529\n",
            "  14      | 0.00083      |    0          | 0.530\n",
            "  15      | 0.00049      |    0          | 0.531\n",
            "  16      | 0.00022      |    0          | 0.531\n",
            "  17      | 0.00013      |    0          | 0.531\n",
            "  18      | 0.00006      |    0          | 0.531\n",
            "  19      | 0.00003      |    0          | 0.531\n",
            "Test succeeded\n"
          ],
          "name": "stdout"
        }
      ]
    },
    {
      "metadata": {
        "id": "VPaC_21OfrEf",
        "colab_type": "code",
        "colab": {
          "autoexec": {
            "startup": false,
            "wait_interval": 0
          }
        }
      },
      "source": [
        ""
      ],
      "cell_type": "code",
      "execution_count": 0,
      "outputs": []
    },
    {
      "metadata": {
        "id": "8ZbcNuabIr7o",
        "colab_type": "text"
      },
      "source": [
        "Below, we've illustrated the progress of value iteration. Your optimal actions are shown by arrows.\n",
        "At the bottom, the value of the different states are plotted."
      ],
      "cell_type": "markdown"
    },
    {
      "metadata": {
        "id": "FVq2XltvIr7p",
        "colab_type": "code",
        "colab": {
          "autoexec": {
            "startup": false,
            "wait_interval": 0
          },
          "output_extras": [
            {
              "item_id": 1
            },
            {
              "item_id": 2
            },
            {
              "item_id": 3
            },
            {
              "item_id": 4
            },
            {
              "item_id": 5
            },
            {
              "item_id": 6
            },
            {
              "item_id": 7
            },
            {
              "item_id": 8
            },
            {
              "item_id": 9
            },
            {
              "item_id": 10
            },
            {
              "item_id": 11
            }
          ],
          "base_uri": "https://localhost:8080/",
          "height": 2050
        },
        "outputId": "e4c3393a-773b-424c-9f97-05e41c96c4c9",
        "executionInfo": {
          "status": "ok",
          "timestamp": 1509186064743,
          "user_tz": -480,
          "elapsed": 2865,
          "user": {
            "displayName": "Mike C",
            "photoUrl": "//lh3.googleusercontent.com/-xWyBhueI0Vo/AAAAAAAAAAI/AAAAAAAAIg8/rU-qliu5l-M/s50-c-k-no/photo.jpg",
            "userId": "110113503404408134511"
          }
        }
      },
      "source": [
        "for (V, pi) in zip(Vs_VI[:10], pis_VI[:10]):\n",
        "    plt.figure(figsize=(3,3))\n",
        "    plt.imshow(V.reshape(4,4), cmap='gray', interpolation='none', clim=(0,1))\n",
        "    ax = plt.gca()\n",
        "    ax.set_xticks(np.arange(4)-.5)\n",
        "    ax.set_yticks(np.arange(4)-.5)\n",
        "    ax.set_xticklabels([])\n",
        "    ax.set_yticklabels([])\n",
        "    Y, X = np.mgrid[0:4, 0:4]\n",
        "    a2uv = {0: (-1, 0), 1:(0, -1), 2:(1,0), 3:(-1, 0)}\n",
        "    Pi = pi.reshape(4,4)\n",
        "    for y in range(4):\n",
        "        for x in range(4):\n",
        "            a = Pi[y, x]\n",
        "            u, v = a2uv[a]\n",
        "            plt.arrow(x, y,u*.3, -v*.3, color='m', head_width=0.1, head_length=0.1) \n",
        "            plt.text(x, y, str(env.desc[y,x].item().decode()),\n",
        "                     color='g', size=12,  verticalalignment='center',\n",
        "                     horizontalalignment='center', fontweight='bold')\n",
        "    plt.grid(color='b', lw=2, ls='-')\n",
        "plt.figure()\n",
        "plt.plot(Vs_VI)\n",
        "plt.title(\"Values of different states\");"
      ],
      "cell_type": "code",
      "execution_count": 21,
      "outputs": [
        {
          "output_type": "display_data",
          "data": {
            "image/png": "[encoded data removed]",
            "text/plain": [
              "<matplotlib.figure.Figure at 0x7f893343f990>"
            ]
          },
          "metadata": {
            "tags": []
          }
        },
        {
          "output_type": "display_data",
          "data": {
            "image/png": "[encoded data removed]",
            "text/plain": [
              "<matplotlib.figure.Figure at 0x7f89333de8d0>"
            ]
          },
          "metadata": {
            "tags": []
          }
        },
        {
          "output_type": "display_data",
          "data": {
            "image/png": "[encoded data removed]",
            "text/plain": [
              "<matplotlib.figure.Figure at 0x7f8932edc350>"
            ]
          },
          "metadata": {
            "tags": []
          }
        },
        {
          "output_type": "display_data",
          "data": {
            "image/png": "[encoded data removed]",
            "text/plain": [
              "<matplotlib.figure.Figure at 0x7f8933478290>"
            ]
          },
          "metadata": {
            "tags": []
          }
        },
        {
          "output_type": "display_data",
          "data": {
            "image/png": "[encoded data removed]",
            "text/plain": [
              "<matplotlib.figure.Figure at 0x7f8932e56990>"
            ]
          },
          "metadata": {
            "tags": []
          }
        },
        {
          "output_type": "display_data",
          "data": {
            "image/png": "[encoded data removed]",
            "text/plain": [
              "<matplotlib.figure.Figure at 0x7f8932d69cd0>"
            ]
          },
          "metadata": {
            "tags": []
          }
        },
        {
          "output_type": "display_data",
          "data": {
            "image/png": "[encoded data removed]",
            "text/plain": [
              "<matplotlib.figure.Figure at 0x7f8932cfab50>"
            ]
          },
          "metadata": {
            "tags": []
          }
        },
        {
          "output_type": "display_data",
          "data": {
            "image/png": "[encoded data removed]",
            "text/plain": [
              "<matplotlib.figure.Figure at 0x7f8932c80b50>"
            ]
          },
          "metadata": {
            "tags": []
          }
        },
        {
          "output_type": "display_data",
          "data": {
            "image/png": "[encoded data removed]",
            "text/plain": [
              "<matplotlib.figure.Figure at 0x7f8932b97550>"
            ]
          },
          "metadata": {
            "tags": []
          }
        },
        {
          "output_type": "display_data",
          "data": {
            "image/png": "[encoded data removed]",
            "text/plain": [
              "<matplotlib.figure.Figure at 0x7f8932c80850>"
            ]
          },
          "metadata": {
            "tags": []
          }
        },
        {
          "output_type": "display_data",
          "data": {
            "image/png": "[encoded data removed]",
            "text/plain": [
              "<matplotlib.figure.Figure at 0x7f893343f910>"
            ]
          },
          "metadata": {
            "tags": []
          }
        }
      ]
    },
    {
      "metadata": {
        "id": "I9JLqRp1MJrI",
        "colab_type": "code",
        "colab": {
          "autoexec": {
            "startup": false,
            "wait_interval": 0
          }
        }
      },
      "source": [
        ""
      ],
      "cell_type": "code",
      "execution_count": 0,
      "outputs": []
    }
  ]
}