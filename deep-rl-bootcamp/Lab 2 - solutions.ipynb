{
  "nbformat": 4,
  "nbformat_minor": 0,
  "metadata": {
    "colab": {
      "name": "Lab 2 - solutions.ipynb",
      "version": "0.3.2",
      "views": {},
      "default_view": {},
      "provenance": [],
      "collapsed_sections": []
    }
  },
  "cells": [
    {
      "metadata": {
        "id": "dJ2vn2Yk5jGP",
        "colab_type": "text"
      },
      "source": [
        "## Preface from mike\n",
        "\n",
        "I modified the notebook from lab2 of the Berkley reinforcement bootcamp 2017 to run on google's colab. This save you from having to set up your own environment.\n",
        "\n",
        "Make a copy of this notebook, (so you don't give everyone the answers). Click file=>make a copy\n",
        "\n",
        "Run the first few cells to download the required code so you run it on a google cloud backend (for free for now). We can also share comments "
      ],
      "cell_type": "markdown"
    },
    {
      "metadata": {
        "id": "OojgG4UM5iKN",
        "colab_type": "code",
        "colab": {
          "autoexec": {
            "startup": false,
            "wait_interval": 0
          },
          "output_extras": [
            {
              "item_id": 1
            },
            {
              "item_id": 2
            }
          ],
          "base_uri": "https://localhost:8080/",
          "height": 389
        },
        "outputId": "3d37a998-5d1c-4433-ff8a-f1d4e9029a39",
        "executionInfo": {
          "status": "ok",
          "timestamp": 1509629010906,
          "user_tz": -480,
          "elapsed": 1279,
          "user": {
            "displayName": "Mike C",
            "photoUrl": "//lh3.googleusercontent.com/-xWyBhueI0Vo/AAAAAAAAAAI/AAAAAAAAIg8/rU-qliu5l-M/s50-c-k-no/photo.jpg",
            "userId": "110113503404408134511"
          }
        }
      },
      "source": [
        "%%bash\n",
        "echo \"downloading lab\"\n",
        "wget --no-check-certificate 'https://docs.google.com/uc?export=download&id=0B1BwaUH2mk-ELUVyUFFvVmcyUnM' -O lab2.zip"
      ],
      "cell_type": "code",
      "execution_count": 1,
      "outputs": [
        {
          "output_type": "stream",
          "text": [
            "downloading lab\n"
          ],
          "name": "stdout"
        },
        {
          "output_type": "stream",
          "text": [
            "--2017-11-02 13:23:32--  https://docs.google.com/uc?export=download&id=0B1BwaUH2mk-ELUVyUFFvVmcyUnM\n",
            "Resolving docs.google.com (docs.google.com)... 74.125.141.102, 74.125.141.101, 74.125.141.138, ...\n",
            "Connecting to docs.google.com (docs.google.com)|74.125.141.102|:443... connected.\n",
            "HTTP request sent, awaiting response... 302 Moved Temporarily\n",
            "Location: https://doc-0o-0s-docs.googleusercontent.com/docs/securesc/ha0ro937gcuc7l7deffksulhg5h7mbp1/33ja8u79g6j11di8433ii8url0hpv5rk/1509624000000/16080780047704686699/*/0B1BwaUH2mk-ELUVyUFFvVmcyUnM?e=download [following]\n",
            "Warning: wildcards not supported in HTTP.\n",
            "--2017-11-02 13:23:32--  https://doc-0o-0s-docs.googleusercontent.com/docs/securesc/ha0ro937gcuc7l7deffksulhg5h7mbp1/33ja8u79g6j11di8433ii8url0hpv5rk/1509624000000/16080780047704686699/*/0B1BwaUH2mk-ELUVyUFFvVmcyUnM?e=download\n",
            "Resolving doc-0o-0s-docs.googleusercontent.com (doc-0o-0s-docs.googleusercontent.com)... 74.125.141.132, 2607:f8b0:400c:c06::84\n",
            "Connecting to doc-0o-0s-docs.googleusercontent.com (doc-0o-0s-docs.googleusercontent.com)|74.125.141.132|:443... connected.\n",
            "HTTP request sent, awaiting response... 200 OK\n",
            "Length: 106566 (104K) [application/zip]\n",
            "Saving to: ‘lab2.zip’\n",
            "\n",
            "     0K .......... .......... .......... .......... .......... 48% 52.5M 0s\n",
            "    50K .......... .......... .......... .......... .......... 96% 49.2M 0s\n",
            "   100K ....                                                  100% 34.0M=0.002s\n",
            "\n",
            "2017-11-02 13:23:32 (49.9 MB/s) - ‘lab2.zip’ saved [106566/106566]\n",
            "\n"
          ],
          "name": "stderr"
        }
      ]
    },
    {
      "metadata": {
        "id": "vCyCCBlQ5i8d",
        "colab_type": "code",
        "colab": {
          "autoexec": {
            "startup": false,
            "wait_interval": 0
          },
          "output_extras": [
            {
              "item_id": 1
            },
            {
              "item_id": 2
            }
          ],
          "base_uri": "https://localhost:8080/",
          "height": 545
        },
        "outputId": "2f0bea5f-0df7-4721-efc2-e0a63dc6a401",
        "executionInfo": {
          "status": "ok",
          "timestamp": 1509629013535,
          "user_tz": -480,
          "elapsed": 1040,
          "user": {
            "displayName": "Mike C",
            "photoUrl": "//lh3.googleusercontent.com/-xWyBhueI0Vo/AAAAAAAAAAI/AAAAAAAAIg8/rU-qliu5l-M/s50-c-k-no/photo.jpg",
            "userId": "110113503404408134511"
          }
        }
      },
      "source": [
        "%%bash\n",
        "echo \"unzipping lab\"\n",
        "unzip -o lab2.zip\n",
        "mv -f lab2/* .\n",
        "rm lab2/ -rf\n",
        "\n",
        "# this notebook is python2, the code is python3, make it compatible with this\n",
        "echo \"\"\n",
        "echo \"python 3 to 2\"\n",
        "pasteurize -w *.py > pasteurize.log"
      ],
      "cell_type": "code",
      "execution_count": 2,
      "outputs": [
        {
          "output_type": "stream",
          "text": [
            "unzipping lab\n",
            "Archive:  lab2.zip\n",
            "   creating: lab2/\n",
            "  inflating: lab2/.DS_Store          \n",
            "  inflating: lab2/Lab 2.ipynb        \n",
            "  inflating: lab2/LICENSE            \n",
            "  inflating: lab2/environment.yml    \n",
            "  inflating: lab2/lab2.md            \n",
            "   creating: lab2/.ipynb_checkpoints/\n",
            "  inflating: lab2/.ipynb_checkpoints/Lab 2-checkpoint.ipynb  \n",
            "\n",
            "python 3 to 2\n"
          ],
          "name": "stdout"
        },
        {
          "output_type": "stream",
          "text": [
            "root: Generating grammar tables from /usr/lib/python2.7/lib2to3/PatternGrammar.txt\n",
            "root: Generating grammar tables from /usr/lib/python2.7/lib2to3/PatternGrammar.txt\n",
            "root: Generating grammar tables from /usr/lib/python2.7/lib2to3/PatternGrammar.txt\n",
            "root: Generating grammar tables from /usr/lib/python2.7/lib2to3/PatternGrammar.txt\n",
            "root: Generating grammar tables from /usr/lib/python2.7/lib2to3/PatternGrammar.txt\n",
            "root: Generating grammar tables from /usr/lib/python2.7/lib2to3/PatternGrammar.txt\n",
            "root: Generating grammar tables from /usr/lib/python2.7/lib2to3/PatternGrammar.txt\n",
            "root: Generating grammar tables from /usr/lib/python2.7/lib2to3/PatternGrammar.txt\n",
            "root: Generating grammar tables from /usr/lib/python2.7/lib2to3/PatternGrammar.txt\n",
            "root: Generating grammar tables from /usr/lib/python2.7/lib2to3/PatternGrammar.txt\n",
            "root: Generating grammar tables from /usr/lib/python2.7/lib2to3/PatternGrammar.txt\n",
            "root: Generating grammar tables from /usr/lib/python2.7/lib2to3/PatternGrammar.txt\n",
            "root: Generating grammar tables from /usr/lib/python2.7/lib2to3/PatternGrammar.txt\n",
            "root: Generating grammar tables from /usr/lib/python2.7/lib2to3/PatternGrammar.txt\n",
            "RefactoringTool: Can't open *.py: [Errno 2] No such file or directory: '*.py'\n",
            "RefactoringTool: No files need to be modified.\n",
            "RefactoringTool: There was 1 error:\n",
            "RefactoringTool: Can't open *.py: [Errno 2] No such file or directory: '*.py'\n"
          ],
          "name": "stderr"
        }
      ]
    },
    {
      "metadata": {
        "id": "c2jQ5QPx5i_L",
        "colab_type": "code",
        "colab": {
          "autoexec": {
            "startup": false,
            "wait_interval": 0
          },
          "output_extras": [
            {
              "item_id": 1
            }
          ],
          "base_uri": "https://localhost:8080/",
          "height": 651
        },
        "outputId": "5cadb486-7cb5-455d-f081-8199ff2e2250",
        "executionInfo": {
          "status": "ok",
          "timestamp": 1509629020010,
          "user_tz": -480,
          "elapsed": 6227,
          "user": {
            "displayName": "Mike C",
            "photoUrl": "//lh3.googleusercontent.com/-xWyBhueI0Vo/AAAAAAAAAAI/AAAAAAAAIg8/rU-qliu5l-M/s50-c-k-no/photo.jpg",
            "userId": "110113503404408134511"
          }
        }
      },
      "source": [
        "%%bash\n",
        "echo \"install dependencies\"\n",
        "pip install gym chainer"
      ],
      "cell_type": "code",
      "execution_count": 3,
      "outputs": [
        {
          "output_type": "stream",
          "text": [
            "install dependencies\n",
            "Collecting gym\n",
            "  Downloading gym-0.9.4.tar.gz (157kB)\n",
            "Collecting chainer\n",
            "  Downloading chainer-3.0.0.tar.gz (339kB)\n",
            "Requirement already satisfied: numpy>=1.10.4 in /usr/local/lib/python2.7/dist-packages (from gym)\n",
            "Requirement already satisfied: requests>=2.0 in /usr/local/lib/python2.7/dist-packages (from gym)\n",
            "Requirement already satisfied: six in /usr/local/lib/python2.7/dist-packages (from gym)\n",
            "Collecting pyglet>=1.2.0 (from gym)\n",
            "  Downloading pyglet-1.2.4-py2-none-any.whl (964kB)\n",
            "Collecting filelock (from chainer)\n",
            "  Downloading filelock-2.0.12.tar.gz\n",
            "Requirement already satisfied: mock in /usr/local/lib/python2.7/dist-packages (from chainer)\n",
            "Collecting nose (from chainer)\n",
            "  Downloading nose-1.3.7-py2-none-any.whl (154kB)\n",
            "Requirement already satisfied: protobuf>=3.0.0 in /usr/local/lib/python2.7/dist-packages (from chainer)\n",
            "Requirement already satisfied: urllib3<1.23,>=1.21.1 in /usr/local/lib/python2.7/dist-packages (from requests>=2.0->gym)\n",
            "Requirement already satisfied: idna<2.7,>=2.5 in /usr/local/lib/python2.7/dist-packages (from requests>=2.0->gym)\n",
            "Requirement already satisfied: chardet<3.1.0,>=3.0.2 in /usr/local/lib/python2.7/dist-packages (from requests>=2.0->gym)\n",
            "Requirement already satisfied: certifi>=2017.4.17 in /usr/local/lib/python2.7/dist-packages (from requests>=2.0->gym)\n",
            "Requirement already satisfied: funcsigs>=1; python_version < \"3.3\" in /usr/local/lib/python2.7/dist-packages (from mock->chainer)\n",
            "Requirement already satisfied: pbr>=0.11 in /usr/local/lib/python2.7/dist-packages (from mock->chainer)\n",
            "Requirement already satisfied: setuptools in /usr/local/lib/python2.7/dist-packages (from protobuf>=3.0.0->chainer)\n",
            "Building wheels for collected packages: gym, chainer, filelock\n",
            "  Running setup.py bdist_wheel for gym: started\n",
            "  Running setup.py bdist_wheel for gym: finished with status 'done'\n",
            "  Stored in directory: /content/.cache/pip/wheels/ad/46/5a/1833d0ef8149a50e78fdb24a41f47e22a7f4a9dcd649b8db53\n",
            "  Running setup.py bdist_wheel for chainer: started\n",
            "  Running setup.py bdist_wheel for chainer: finished with status 'done'\n",
            "  Stored in directory: /content/.cache/pip/wheels/50/a6/5f/1b4d884fcc4e079cfc6f60f1ba0f5d1cffff63be09c111e273\n",
            "  Running setup.py bdist_wheel for filelock: started\n",
            "  Running setup.py bdist_wheel for filelock: finished with status 'done'\n",
            "  Stored in directory: /content/.cache/pip/wheels/68/e0/0c/ca5c34b3b61ef8d3caf4b7fbbfb2f9f840128ce4015ad52566\n",
            "Successfully built gym chainer filelock\n",
            "Installing collected packages: pyglet, gym, filelock, nose, chainer\n",
            "Successfully installed chainer-3.0.0 filelock-2.0.12 gym-0.9.4 nose-1.3.7 pyglet-1.2.4\n"
          ],
          "name": "stdout"
        }
      ]
    },
    {
      "metadata": {
        "id": "TGyxx5xNh9ld",
        "colab_type": "code",
        "colab": {
          "autoexec": {
            "startup": false,
            "wait_interval": 0
          }
        }
      },
      "source": [
        "\"\"\"\n",
        "This project was developed by Peter Chen, Rocky Duan, Pieter Abbeel for the Berkeley Deep RL Bootcamp, August 2017.\n",
        "Bootcamp website with slides and lecture videos: https://sites.google.com/view/deep-rl-bootcamp/.\n",
        "\n",
        "Code adapted from Stanford CS231N materials: http://cs231n.stanford.edu/\n",
        "\"\"\"\n",
        "\n",
        "\n",
        "# note to properly run this lab, you should execute all code blocks sequentially\n",
        "import chainer\n",
        "import chainer.functions as F\n",
        "import chainer.links as L\n",
        "from chainer import training\n",
        "from chainer.training import extensions\n",
        "\n",
        "from collections import namedtuple, defaultdict, deque\n",
        "\n",
        "import numpy as np\n",
        "\n",
        "%matplotlib inline\n",
        "\n",
        "import matplotlib\n",
        "import matplotlib.pyplot as plt"
      ],
      "cell_type": "code",
      "execution_count": 0,
      "outputs": []
    },
    {
      "metadata": {
        "id": "HpYCNt7Ah9lg",
        "colab_type": "text"
      },
      "source": [
        "## Introduction to Chainer\n",
        "\n",
        "Chainer can be understood as Numpy plus the ability to record the computation graph of numerical operations to enable Automatic Differentiation. (Chainer actually also offers many other things; for example, a Numpy equivalent library that runs on GPU, but we will ignore them for now)"
      ],
      "cell_type": "markdown"
    },
    {
      "metadata": {
        "id": "9UHVo1QJh9lh",
        "colab_type": "text"
      },
      "source": [
        "Let's illustrate how Chainer works by a simple 1D regression task.\n",
        "\n",
        "Suppose we have observations from the following model $y = w x + b + \\epsilon$ where $\\epsilon \\sim \\mathcal{N}(0, 0.1)$ and the task is to estimate the linear model parameters $w, b$ from data."
      ],
      "cell_type": "markdown"
    },
    {
      "metadata": {
        "id": "trRz8afmh9lh",
        "colab_type": "code",
        "colab": {
          "autoexec": {
            "startup": false,
            "wait_interval": 0
          },
          "output_extras": [
            {
              "item_id": 1
            }
          ],
          "base_uri": "https://localhost:8080/",
          "height": 266
        },
        "outputId": "c9bc13b6-34be-4e8c-8ecf-17ef3d491ae6",
        "executionInfo": {
          "status": "ok",
          "timestamp": 1509629022307,
          "user_tz": -480,
          "elapsed": 866,
          "user": {
            "displayName": "Mike C",
            "photoUrl": "//lh3.googleusercontent.com/-xWyBhueI0Vo/AAAAAAAAAAI/AAAAAAAAIg8/rU-qliu5l-M/s50-c-k-no/photo.jpg",
            "userId": "110113503404408134511"
          }
        }
      },
      "source": [
        "# first generate some observations\n",
        "true_a = 1.3\n",
        "true_b = 0.4\n",
        "data_x = (np.arange(100) / 99.0 - .5).astype(np.float32) # Chainer assumes all the cpu computation is done in float32\n",
        "data_y = (data_x * true_a + true_b + np.random.randn(*data_x.shape) * 0.1).astype(np.float32)\n",
        "_ = plt.scatter(data_x, data_y, c='b')"
      ],
      "cell_type": "code",
      "execution_count": 5,
      "outputs": [
        {
          "output_type": "display_data",
          "data": {
            "image/png": "[encoded data removed]",
            "text/plain": [
              "<matplotlib.figure.Figure at 0x7f72f0de7e50>"
            ]
          },
          "metadata": {
            "tags": []
          }
        }
      ]
    },
    {
      "metadata": {
        "id": "_RB5WmiLh9lm",
        "colab_type": "text"
      },
      "source": [
        "Chainer provides an abstraction called `Link` that describe some computation and keeps track of parameters for it. For instance, a `Linear` link describes a linear map on input and keeps track of `w` and bias `b`."
      ],
      "cell_type": "markdown"
    },
    {
      "metadata": {
        "id": "TTM77r6-h9lm",
        "colab_type": "code",
        "colab": {
          "autoexec": {
            "startup": false,
            "wait_interval": 0
          },
          "output_extras": [
            {
              "item_id": 1
            }
          ],
          "base_uri": "https://localhost:8080/",
          "height": 87
        },
        "outputId": "3e2d406b-a17c-4455-c304-1cb476560adf",
        "executionInfo": {
          "status": "ok",
          "timestamp": 1509629023674,
          "user_tz": -480,
          "elapsed": 711,
          "user": {
            "displayName": "Mike C",
            "photoUrl": "//lh3.googleusercontent.com/-xWyBhueI0Vo/AAAAAAAAAAI/AAAAAAAAIg8/rU-qliu5l-M/s50-c-k-no/photo.jpg",
            "userId": "110113503404408134511"
          }
        }
      },
      "source": [
        "model = L.Linear(in_size=1, out_size=1) # input is 1D data and output is also 1D data\n",
        "\n",
        "# Chainer will randomly initialize `w` and `b` for us.\n",
        "# we can take a look at their values\n",
        "print(\"w:\", model.W)\n",
        "print(\"b:\", model.b)\n",
        "\n",
        "# model.W and model.b have type `chainer.Variable`, \n",
        "#   which is a wrapper around Numpy array\n",
        "assert isinstance(model.W, chainer.Variable)\n",
        "\n",
        "# operations that involve `chainer.Variable` will produce\n",
        "#   `chainer.Variable` and this records the computation graph\n",
        "var_result = model.W + 123 # some random computation\n",
        "print(\"Operations on chainer.Variable: %s, type: %s\" % (var_result, type(var_result)))\n",
        "\n",
        "# the underlying numpy array can be accessed by `data` attribute\n",
        "print(\"numpy arrays:\", model.W.data, var_result.data)"
      ],
      "cell_type": "code",
      "execution_count": 6,
      "outputs": [
        {
          "output_type": "stream",
          "text": [
            "('w:', variable W([[-2.68564606]]))\n",
            "('b:', variable b([ 0.]))\n",
            "Operations on chainer.Variable: variable([[ 120.31435394]]), type: <class 'chainer.variable.Variable'>\n",
            "('numpy arrays:', array([[-2.68564606]], dtype=float32), array([[ 120.31435394]], dtype=float32))\n"
          ],
          "name": "stdout"
        }
      ]
    },
    {
      "metadata": {
        "id": "RYSYYK1Wh9lp",
        "colab_type": "code",
        "colab": {
          "autoexec": {
            "startup": false,
            "wait_interval": 0
          },
          "output_extras": [
            {
              "item_id": 1
            }
          ],
          "base_uri": "https://localhost:8080/",
          "height": 281
        },
        "outputId": "db206472-f289-4691-d7bb-cd1a06c899cf",
        "executionInfo": {
          "status": "ok",
          "timestamp": 1509629025385,
          "user_tz": -480,
          "elapsed": 713,
          "user": {
            "displayName": "Mike C",
            "photoUrl": "//lh3.googleusercontent.com/-xWyBhueI0Vo/AAAAAAAAAAI/AAAAAAAAIg8/rU-qliu5l-M/s50-c-k-no/photo.jpg",
            "userId": "110113503404408134511"
          }
        }
      },
      "source": [
        "# A chainer link is a callable object. calling it performs the\n",
        "#   forward computation. (in this case, it performs Wx + b)\n",
        "model_y = model(data_x[:, None]) # chainer's link usually assumes input is [Batch Size, Input Dimension]\n",
        "# `model_y` is a chainer variable so we use `.data` to access its numpy array for plotting\n",
        "\n",
        "# we can plot the model's current fit in red. it should be terrible because we haven't trained it yet\n",
        "_ = plt.plot(data_x, model_y.data[:,0], c='r')\n",
        "_ = plt.scatter(data_x, data_y, c='b')\n",
        "_ = plt.title(\"Initial model\")"
      ],
      "cell_type": "code",
      "execution_count": 7,
      "outputs": [
        {
          "output_type": "display_data",
          "data": {
            "image/png": "[encoded data removed]",
            "text/plain": [
              "<matplotlib.figure.Figure at 0x7f72f0d9c950>"
            ]
          },
          "metadata": {
            "tags": []
          }
        }
      ]
    },
    {
      "metadata": {
        "id": "nexItAIIh9ls",
        "colab_type": "code",
        "colab": {
          "autoexec": {
            "startup": false,
            "wait_interval": 0
          },
          "output_extras": [
            {
              "item_id": 1
            }
          ],
          "base_uri": "https://localhost:8080/",
          "height": 52
        },
        "outputId": "081ca4b2-23e0-43fe-e777-f9fd7387d8bd",
        "executionInfo": {
          "status": "ok",
          "timestamp": 1509629026335,
          "user_tz": -480,
          "elapsed": 684,
          "user": {
            "displayName": "Mike C",
            "photoUrl": "//lh3.googleusercontent.com/-xWyBhueI0Vo/AAAAAAAAAAI/AAAAAAAAIg8/rU-qliu5l-M/s50-c-k-no/photo.jpg",
            "userId": "110113503404408134511"
          }
        }
      },
      "source": [
        "# now let's walk through how to perform forward computation\n",
        "#  and use AD to get gradients\n",
        "\n",
        "# first we clear the gradients that are stored in the model\n",
        "model.cleargrads()\n",
        "# as we have seen we can perform forward computation by calling the link\n",
        "model_y = model(data_x[:, None])\n",
        "\n",
        "# remember that `model_y` is a chainer variable. to operate on chainer variable\n",
        "#    we will use functions from chainer.functions to operate on those objects.\n",
        "loss = F.mean(F.square(model_y - data_y[:, None]))\n",
        "# `loss` is a scalar chainer variable\n",
        "assert isinstance(loss, chainer.Variable)\n",
        "print(\"loss\", loss)\n",
        "# calculating gradients d loss /d params is as simple as\n",
        "loss.backward()\n",
        "\n",
        "# we can inspect the gradient of loss with respect to W\n",
        "print(\"dloss/dW\", model.W.grad)"
      ],
      "cell_type": "code",
      "execution_count": 8,
      "outputs": [
        {
          "output_type": "stream",
          "text": [
            "('loss', variable(1.5272977352142334))\n",
            "('dloss/dW', array([[-0.67883784]], dtype=float32))\n"
          ],
          "name": "stdout"
        }
      ]
    },
    {
      "metadata": {
        "id": "bmutokMYh9lu",
        "colab_type": "text"
      },
      "source": [
        "Now that we know how to calculate gradients, we can code up a simple loop to perform gradient descent to train this model:\n",
        "\n",
        "(Hint: if you run into weird problems, maybe the state has been messed up and you can try re-runing all the code blocks from the beginning)"
      ],
      "cell_type": "markdown"
    },
    {
      "metadata": {
        "id": "muy2zwTQh9lv",
        "colab_type": "code",
        "colab": {
          "autoexec": {
            "startup": false,
            "wait_interval": 0
          },
          "output_extras": [
            {
              "item_id": 1
            },
            {
              "item_id": 2
            },
            {
              "item_id": 3
            }
          ],
          "base_uri": "https://localhost:8080/",
          "height": 615
        },
        "outputId": "5f7704e9-505d-4920-e8d8-f50a04cfbd3d",
        "executionInfo": {
          "status": "ok",
          "timestamp": 1509629325804,
          "user_tz": -480,
          "elapsed": 1269,
          "user": {
            "displayName": "Mike C",
            "photoUrl": "//lh3.googleusercontent.com/-xWyBhueI0Vo/AAAAAAAAAAI/AAAAAAAAIg8/rU-qliu5l-M/s50-c-k-no/photo.jpg",
            "userId": "110113503404408134511"
          }
        }
      },
      "source": [
        "# now we can perform gradient descent to improve this model\n",
        "model = L.Linear(in_size=1, out_size=1)\n",
        "losses = []\n",
        "\n",
        "for i in range(100):\n",
        "    model.cleargrads()\n",
        "    loss = F.mean(F.square(model(data_x[:, None]) - data_y[:, None]))\n",
        "    losses.append(float(loss.data))\n",
        "    ## *** YOUR CODE HERE TO PERFORM GRADIENT DESCENT ***\n",
        "    ## Hint: you could access gradients with model.W.grad, model.b.grad\n",
        "    ## Hint2: you could write data into a parameter with model.W.data[:] = some_numpy_array\n",
        "    ## Hint3: if your model doesn't learn, remember to try different learning rates\n",
        "    lr = 0.1 # learning rate\n",
        "    model.cleargrads()\n",
        "    loss.backward()\n",
        "    model.W.data[:] -= model.W.grad[0] * lr\n",
        "    model.b.data[:] -= model.b.grad[0] * lr\n",
        "    \n",
        "    if i % 25 == 0:\n",
        "        print(\"Itr\", i, \"loss:\", loss)\n",
        "plt.plot(np.array(losses))\n",
        "plt.title(\"Learning curve\")\n",
        "plt.figure()\n",
        "plt.plot(data_x, model(data_x[:, None])[:,0].data, c='r')\n",
        "plt.scatter(data_x, data_y, c='b')\n",
        "_ = plt.title(\"Trained model fitness\")\n"
      ],
      "cell_type": "code",
      "execution_count": 24,
      "outputs": [
        {
          "output_type": "stream",
          "text": [
            "('Itr', 0, 'loss:', variable(0.427589476108551))\n",
            "('Itr', 25, 'loss:', variable(0.11692220717668533))\n",
            "('Itr', 50, 'loss:', variable(0.05454133823513985))\n",
            "('Itr', 75, 'loss:', variable(0.0280784722417593))\n"
          ],
          "name": "stdout"
        },
        {
          "output_type": "display_data",
          "data": {
            "image/png": "[encoded data removed]",
            "text/plain": [
              "<matplotlib.figure.Figure at 0x7f72f0e5ce10>"
            ]
          },
          "metadata": {
            "tags": []
          }
        },
        {
          "output_type": "display_data",
          "data": {
            "image/png": "[encoded data removed]",
            "text/plain": [
              "<matplotlib.figure.Figure at 0x7f72eecd1750>"
            ]
          },
          "metadata": {
            "tags": []
          }
        }
      ]
    },
    {
      "metadata": {
        "id": "0yPW3udd6EyG",
        "colab_type": "code",
        "colab": {
          "autoexec": {
            "startup": false,
            "wait_interval": 0
          },
          "output_extras": [
            {
              "item_id": 1
            }
          ],
          "base_uri": "https://localhost:8080/",
          "height": 35
        },
        "outputId": "25016a4a-590f-4dc8-ebd8-a01f481b5c13",
        "executionInfo": {
          "status": "ok",
          "timestamp": 1509629152921,
          "user_tz": -480,
          "elapsed": 772,
          "user": {
            "displayName": "Mike C",
            "photoUrl": "//lh3.googleusercontent.com/-xWyBhueI0Vo/AAAAAAAAAAI/AAAAAAAAIg8/rU-qliu5l-M/s50-c-k-no/photo.jpg",
            "userId": "110113503404408134511"
          }
        }
      },
      "source": [
        ""
      ],
      "cell_type": "code",
      "execution_count": 18,
      "outputs": [
        {
          "output_type": "execute_result",
          "data": {
            "text/plain": [
              "array([-0.22414903], dtype=float32)"
            ]
          },
          "metadata": {
            "tags": []
          },
          "execution_count": 18
        }
      ]
    },
    {
      "metadata": {
        "id": "S7e1bXzRh9lx",
        "colab_type": "text"
      },
      "source": [
        "## Train your first deep model\n",
        "\n",
        "Now we have learned the basics of Chainer. We can use it to train a deep model to classify MNIST digits. We will train a model on the MNIST dataset because the dataset is small.\n",
        "\n",
        "First we load the data and see what the images look like:"
      ],
      "cell_type": "markdown"
    },
    {
      "metadata": {
        "id": "BF2lwVp-h9ly",
        "colab_type": "code",
        "colab": {
          "autoexec": {
            "startup": false,
            "wait_interval": 0
          },
          "output_extras": [
            {
              "item_id": 5
            },
            {
              "item_id": 6
            },
            {
              "item_id": 7
            }
          ],
          "base_uri": "https://localhost:8080/",
          "height": 650
        },
        "outputId": "ce8472df-30f8-40cb-9c7a-5ea93a809261",
        "executionInfo": {
          "status": "ok",
          "timestamp": 1509629264181,
          "user_tz": -480,
          "elapsed": 68556,
          "user": {
            "displayName": "Mike C",
            "photoUrl": "//lh3.googleusercontent.com/-xWyBhueI0Vo/AAAAAAAAAAI/AAAAAAAAIg8/rU-qliu5l-M/s50-c-k-no/photo.jpg",
            "userId": "110113503404408134511"
          }
        }
      },
      "source": [
        "train, test = chainer.datasets.get_mnist()\n",
        "# use train[data_point_index] to access data\n",
        "print(\"train[i][0] is the ith image that's flattened, and has shape:\", train[12][0].shape)\n",
        "print(\"train[i][1] is the ith image's label, such as:\", train[12][1])\n",
        "# here we visualize two of them\n",
        "plt.imshow(train[12][0].reshape([28, 28,]))\n",
        "plt.title(\"Label: %s\" % train[12][1])\n",
        "plt.figure()\n",
        "plt.imshow(train[42][0].reshape([28, 28,]))\n",
        "_ = plt.title(\"Label: %s\" % train[42][1])"
      ],
      "cell_type": "code",
      "execution_count": 21,
      "outputs": [
        {
          "output_type": "stream",
          "text": [
            "Downloading from http://yann.lecun.com/exdb/mnist/train-images-idx3-ubyte.gz...\n",
            "Downloading from http://yann.lecun.com/exdb/mnist/train-labels-idx1-ubyte.gz...\n",
            "Downloading from http://yann.lecun.com/exdb/mnist/t10k-images-idx3-ubyte.gz...\n",
            "Downloading from http://yann.lecun.com/exdb/mnist/t10k-labels-idx1-ubyte.gz...\n",
            "(\"train[i][0] is the ith image that's flattened, and has shape:\", (784,))\n",
            "(\"train[i][1] is the ith image's label, such as:\", 3)\n"
          ],
          "name": "stdout"
        },
        {
          "output_type": "display_data",
          "data": {
            "image/png": "[encoded data removed]",
            "text/plain": [
              "<matplotlib.figure.Figure at 0x7f72eec94750>"
            ]
          },
          "metadata": {
            "tags": []
          }
        },
        {
          "output_type": "display_data",
          "data": {
            "image/png": "[encoded data removed]",
            "text/plain": [
              "<matplotlib.figure.Figure at 0x7f72f0d9c8d0>"
            ]
          },
          "metadata": {
            "tags": []
          }
        }
      ]
    },
    {
      "metadata": {
        "id": "qyWpO4hPh9l1",
        "colab_type": "text"
      },
      "source": [
        "Next we will provide some boilerplate code and train a linear classifier as an example:"
      ],
      "cell_type": "markdown"
    },
    {
      "metadata": {
        "id": "kFJ_OMDNh9l2",
        "colab_type": "code",
        "colab": {
          "autoexec": {
            "startup": false,
            "wait_interval": 0
          },
          "output_extras": [
            {
              "item_id": 23
            }
          ],
          "base_uri": "https://localhost:8080/",
          "height": 475
        },
        "outputId": "f4147165-7452-49af-9fec-f3353e3a9576",
        "executionInfo": {
          "status": "ok",
          "timestamp": 1509629273026,
          "user_tz": -480,
          "elapsed": 8789,
          "user": {
            "displayName": "Mike C",
            "photoUrl": "//lh3.googleusercontent.com/-xWyBhueI0Vo/AAAAAAAAAAI/AAAAAAAAIg8/rU-qliu5l-M/s50-c-k-no/photo.jpg",
            "userId": "110113503404408134511"
          }
        }
      },
      "source": [
        "def run(model, batchsize=16, num_epochs=2):\n",
        "    \n",
        "    optimizer = chainer.optimizers.Adam() # we will use chainer's Adam implementation instead of writing our own gradient based optimization\n",
        "    optimizer.setup(model)\n",
        "    \n",
        "    stats = defaultdict(lambda: deque(maxlen=25))\n",
        "    for epoch in range(num_epochs):\n",
        "        train_iter = chainer.iterators.SerialIterator(train, batchsize, repeat=False, shuffle=True)\n",
        "        test_iter = chainer.iterators.SerialIterator(test, batchsize, repeat=False, shuffle=False)\n",
        "        \n",
        "        for itr, batch in enumerate(train_iter):\n",
        "            xs = np.concatenate([datum[0][None, :] for datum in batch])\n",
        "            ys = np.array([datum[1] for datum in batch])\n",
        "\n",
        "            logits = model(xs)\n",
        "\n",
        "            loss = F.softmax_cross_entropy(logits, ys)\n",
        "            model.cleargrads()\n",
        "            loss.backward()\n",
        "            optimizer.update()\n",
        "            \n",
        "            # calculate stats\n",
        "            stats[\"loss\"].append(float(loss.data))\n",
        "            stats[\"accuracy\"].append(float((logits.data.argmax(1) == ys).sum() / batchsize))\n",
        "            if itr % 300 == 0:\n",
        "                print(\"; \".join(\"%s: %s\" % (k, np.mean(vs)) for k, vs in stats.items()))\n",
        "\n",
        "# try a simple linear model\n",
        "run(L.Linear(None, 10))"
      ],
      "cell_type": "code",
      "execution_count": 22,
      "outputs": [
        {
          "output_type": "stream",
          "text": [
            "loss: 2.32925891876; accuracy: 0.0\n",
            "loss: 0.637445527315; accuracy: 0.08\n",
            "loss: 0.480117873549; accuracy: 0.04\n",
            "loss: 0.421319420338; accuracy: 0.16\n",
            "loss: 0.374452891648; accuracy: 0.16\n",
            "loss: 0.339015575051; accuracy: 0.2\n",
            "loss: 0.332811718583; accuracy: 0.36\n",
            "loss: 0.389967683554; accuracy: 0.16\n",
            "loss: 0.355354978442; accuracy: 0.16\n",
            "loss: 0.362367997468; accuracy: 0.24\n",
            "loss: 0.306577712595; accuracy: 0.32\n",
            "loss: 0.353270591199; accuracy: 0.16\n",
            "loss: 0.386706850827; accuracy: 0.16\n",
            "loss: 0.328302717209; accuracy: 0.2\n",
            "loss: 0.330680179298; accuracy: 0.2\n",
            "loss: 0.297317226529; accuracy: 0.32\n",
            "loss: 0.306289359778; accuracy: 0.24\n",
            "loss: 0.342978409827; accuracy: 0.28\n",
            "loss: 0.29750328362; accuracy: 0.28\n",
            "loss: 0.348949042261; accuracy: 0.24\n",
            "loss: 0.311050440073; accuracy: 0.2\n",
            "loss: 0.267931166291; accuracy: 0.08\n",
            "loss: 0.25495399639; accuracy: 0.52\n",
            "loss: 0.305251099467; accuracy: 0.2\n",
            "loss: 0.222549476624; accuracy: 0.32\n",
            "loss: 0.268471718431; accuracy: 0.28\n"
          ],
          "name": "stdout"
        }
      ]
    },
    {
      "metadata": {
        "id": "-s4rTjKNh9l3",
        "colab_type": "text"
      },
      "source": [
        "Next we will try to improve performance by training an MLP instead. A partial implementation is provided for you to fill in:"
      ],
      "cell_type": "markdown"
    },
    {
      "metadata": {
        "id": "Z3gdlPs0h9l4",
        "colab_type": "code",
        "colab": {
          "autoexec": {
            "startup": false,
            "wait_interval": 0
          },
          "output_extras": [
            {
              "item_id": 26
            }
          ],
          "base_uri": "https://localhost:8080/",
          "height": 475
        },
        "outputId": "167239eb-36c3-4df0-ec92-a5e434ed8397",
        "executionInfo": {
          "status": "ok",
          "timestamp": 1509629324478,
          "user_tz": -480,
          "elapsed": 51435,
          "user": {
            "displayName": "Mike C",
            "photoUrl": "//lh3.googleusercontent.com/-xWyBhueI0Vo/AAAAAAAAAAI/AAAAAAAAIg8/rU-qliu5l-M/s50-c-k-no/photo.jpg",
            "userId": "110113503404408134511"
          }
        }
      },
      "source": [
        "class MLP(chainer.Chain):\n",
        "\n",
        "    def __init__(self, n_units, n_out):\n",
        "        super(MLP, self).__init__()\n",
        "        with self.init_scope():\n",
        "            # the size of the inputs to each layer will be inferred\n",
        "            self.l1 = L.Linear(None, n_units)  # n_in -> n_units\n",
        "            self.l2 = L.Linear(None, n_units)  # n_units -> n_units\n",
        "            self.l3 = L.Linear(None, n_out)  # n_units -> n_out\n",
        "\n",
        "    def __call__(self, x):\n",
        "        # *** YOUR CODE HERE TO BUILD AN MLP W/ self.l1, self.l2, self.l3 ***\n",
        "        # \n",
        "        # Hint: you should make use of non-linearities / activation functions\n",
        "        #     https://docs.chainer.org/en/stable/reference/functions.html#activation-functions\n",
        "        x = F.relu(self.l1(x))\n",
        "        x = F.relu(self.l2(x))\n",
        "        x = self.l3(x)\n",
        "        return x\n",
        "#         raise NotImplementedError()\n",
        "run(MLP(200, 10))"
      ],
      "cell_type": "code",
      "execution_count": 23,
      "outputs": [
        {
          "output_type": "stream",
          "text": [
            "loss: 2.19567322731; accuracy: 0.0\n",
            "loss: 0.289126877189; accuracy: 0.12\n",
            "loss: 0.230725547671; accuracy: 0.24\n",
            "loss: 0.245554587245; accuracy: 0.28\n",
            "loss: 0.187953667641; accuracy: 0.4\n",
            "loss: 0.20777797401; accuracy: 0.36\n",
            "loss: 0.151928565502; accuracy: 0.48\n",
            "loss: 0.14529140085; accuracy: 0.6\n",
            "loss: 0.116416935623; accuracy: 0.56\n",
            "loss: 0.112564135492; accuracy: 0.44\n",
            "loss: 0.151220483184; accuracy: 0.48\n",
            "loss: 0.2010664922; accuracy: 0.28\n",
            "loss: 0.0842502993345; accuracy: 0.6\n",
            "loss: 0.0990357077122; accuracy: 0.68\n",
            "loss: 0.0542347553372; accuracy: 0.72\n",
            "loss: 0.153207380772; accuracy: 0.48\n",
            "loss: 0.0910018110275; accuracy: 0.48\n",
            "loss: 0.0606182068586; accuracy: 0.76\n",
            "loss: 0.094375398159; accuracy: 0.72\n",
            "loss: 0.0803616392612; accuracy: 0.68\n",
            "loss: 0.137596744299; accuracy: 0.36\n",
            "loss: 0.0812636685371; accuracy: 0.64\n",
            "loss: 0.129164605439; accuracy: 0.52\n",
            "loss: 0.0433241149783; accuracy: 0.8\n",
            "loss: 0.0538192850351; accuracy: 0.68\n",
            "loss: 0.0591419115663; accuracy: 0.76\n"
          ],
          "name": "stdout"
        }
      ]
    },
    {
      "metadata": {
        "id": "BhFCDhs3h9l6",
        "colab_type": "text"
      },
      "source": [
        "Next you should try to implement logging test loss and see if the model is overfitting."
      ],
      "cell_type": "markdown"
    },
    {
      "metadata": {
        "id": "0QbIzZNSh9l6",
        "colab_type": "code",
        "colab": {
          "autoexec": {
            "startup": false,
            "wait_interval": 0
          },
          "output_extras": [
            {
              "item_id": 32
            }
          ],
          "base_uri": "https://localhost:8080/",
          "height": 580
        },
        "outputId": "75c0e248-1267-47a3-acab-5d5fdc0ab829"
      },
      "source": [
        "def better_run(model, batchsize=16, num_epochs=2):\n",
        "\n",
        "    optimizer = chainer.optimizers.Adam() # we will use chainer's Adam implementation instead of writing our own gradient based optimization\n",
        "    optimizer.setup(model)\n",
        "    \n",
        "    stats = defaultdict(lambda: deque(maxlen=25))\n",
        "    for epoch in range(num_epochs):\n",
        "        train_iter = chainer.iterators.SerialIterator(train, batchsize, repeat=False, shuffle=True)\n",
        "        for itr, batch in enumerate(train_iter):\n",
        "            xs = np.concatenate([datum[0][None, :] for datum in batch])\n",
        "            ys = np.array([datum[1] for datum in batch])\n",
        "\n",
        "            logits = model(xs)\n",
        "\n",
        "            loss = F.softmax_cross_entropy(logits, ys)\n",
        "            model.cleargrads()\n",
        "            loss.backward()\n",
        "            optimizer.update()\n",
        "            \n",
        "            # calculate stats\n",
        "            stats[\"loss\"].append(float(loss.data))\n",
        "            stats[\"accuracy\"].append(float((logits.data.argmax(1) == ys).sum() / batchsize))\n",
        "            if itr % 30 == 0:\n",
        "                test_iter = chainer.iterators.SerialIterator(test, batchsize, repeat=False, shuffle=False)\n",
        "                # *** YOUR CODE implement logging of stats on test set ***\n",
        "                for batch_test in test_iter:\n",
        "                    xs = np.concatenate([datum[0][None, :] for datum in batch_test])\n",
        "                    ys = np.array([datum[1] for datum in batch_test])\n",
        "\n",
        "                    logits = model(xs)\n",
        "\n",
        "                    loss = F.softmax_cross_entropy(logits, ys)\n",
        "                    # no need to learn, when we are testing\n",
        "                    # calculate stats\n",
        "                    stats[\"val_loss\"].append(float(loss.data))\n",
        "                    stats[\"val_accuracy\"].append(float((logits.data.argmax(1) == ys).sum() / batchsize))\n",
        "                    \n",
        "                print(\"; \".join(\"%s: %s\" % (k, np.mean(vs)) for k, vs in stats.items()))\n",
        "\n",
        "better_run(MLP(200, 10))"
      ],
      "cell_type": "code",
      "execution_count": 0,
      "outputs": [
        {
          "output_type": "stream",
          "text": [
            "loss: 2.38229012489; val_accuracy: 0.0; val_loss: 2.29367769241; accuracy: 0.0\n",
            "loss: 1.55391245842; val_accuracy: 0.0; val_loss: 1.13345803261; accuracy: 0.0\n",
            "loss: 0.646526403427; val_accuracy: 0.0; val_loss: 0.822305475473; accuracy: 0.08\n",
            "loss: 0.527407506108; val_accuracy: 0.0; val_loss: 0.691670941114; accuracy: 0.0\n",
            "loss: 0.466817269325; val_accuracy: 0.08; val_loss: 0.612925790548; accuracy: 0.04\n",
            "loss: 0.393106015325; val_accuracy: 0.04; val_loss: 0.580229463577; accuracy: 0.04\n",
            "loss: 0.353550501466; val_accuracy: 0.0; val_loss: 0.639054588675; accuracy: 0.16\n",
            "loss: 0.325949620903; val_accuracy: 0.0; val_loss: 0.54268496573; accuracy: 0.16\n",
            "loss: 0.493765832782; val_accuracy: 0.04; val_loss: 0.598064358234; accuracy: 0.08\n",
            "loss: 0.441802020669; val_accuracy: 0.08; val_loss: 0.474574801922; accuracy: 0.12\n",
            "loss: 0.315273371339; val_accuracy: 0.16; val_loss: 0.465327720046; accuracy: 0.24\n",
            "loss: 0.358024782836; val_accuracy: 0.08; val_loss: 0.472458402514; accuracy: 0.28\n",
            "loss: 0.322830531597; val_accuracy: 0.04; val_loss: 0.486205202937; accuracy: 0.24\n",
            "loss: 0.336920343041; val_accuracy: 0.16; val_loss: 0.497796416879; accuracy: 0.16\n",
            "loss: 0.202015681267; val_accuracy: 0.04; val_loss: 0.466192596555; accuracy: 0.48\n",
            "loss: 0.307852499485; val_accuracy: 0.08; val_loss: 0.449665151238; accuracy: 0.12\n",
            "loss: 0.269956387281; val_accuracy: 0.12; val_loss: 0.506647168398; accuracy: 0.24\n",
            "loss: 0.307980099916; val_accuracy: 0.2; val_loss: 0.430230525136; accuracy: 0.2\n",
            "loss: 0.229430580735; val_accuracy: 0.04; val_loss: 0.412149706483; accuracy: 0.28\n",
            "loss: 0.270627126098; val_accuracy: 0.08; val_loss: 0.40500033319; accuracy: 0.32\n",
            "loss: 0.186080741286; val_accuracy: 0.12; val_loss: 0.386364367008; accuracy: 0.44\n",
            "loss: 0.22999602288; val_accuracy: 0.16; val_loss: 0.432844335437; accuracy: 0.28\n",
            "loss: 0.250118284822; val_accuracy: 0.12; val_loss: 0.374633293748; accuracy: 0.28\n",
            "loss: 0.174835678637; val_accuracy: 0.08; val_loss: 0.440627692938; accuracy: 0.44\n",
            "loss: 0.248081167936; val_accuracy: 0.16; val_loss: 0.361101129651; accuracy: 0.24\n",
            "loss: 0.247025899291; val_accuracy: 0.16; val_loss: 0.347476246953; accuracy: 0.2\n",
            "loss: 0.189303216934; val_accuracy: 0.2; val_loss: 0.358281924129; accuracy: 0.36\n",
            "loss: 0.290047548115; val_accuracy: 0.32; val_loss: 0.296972821355; accuracy: 0.32\n",
            "loss: 0.209366900921; val_accuracy: 0.12; val_loss: 0.341278240383; accuracy: 0.2\n",
            "loss: 0.257778088152; val_accuracy: 0.2; val_loss: 0.327720628977; accuracy: 0.28\n",
            "loss: 0.225090374351; val_accuracy: 0.12; val_loss: 0.43271810472; accuracy: 0.28\n",
            "loss: 0.153858321309; val_accuracy: 0.2; val_loss: 0.37645216465; accuracy: 0.6\n"
          ],
          "name": "stdout"
        }
      ]
    },
    {
      "metadata": {
        "id": "nUEQ9fr97jc2",
        "colab_type": "code",
        "colab": {
          "autoexec": {
            "startup": false,
            "wait_interval": 0
          }
        }
      },
      "source": [
        ""
      ],
      "cell_type": "code",
      "execution_count": 0,
      "outputs": []
    },
    {
      "metadata": {
        "id": "IbawtwqUh9l8",
        "colab_type": "text"
      },
      "source": [
        "Try different variants!\n",
        "\n",
        "- Does using a ConvNet improve performance (reduce overfitting?)\n",
        "- Try changing the learning rate and observe the effect\n",
        "- Does the model train if you give it correlated gradients? (consecutively sample many batches of \"1\", then many batches of \"2\", ... etc"
      ],
      "cell_type": "markdown"
    }
  ]
}